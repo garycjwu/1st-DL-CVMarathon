{
 "cells": [
  {
   "cell_type": "markdown",
   "metadata": {},
   "source": [
    "# 動態網頁爬蟲 - 使用 Selenium\n",
    "\n",
    "* 了解 Selenium 用於動態網頁爬蟲的原理\n",
    "* 能夠使用 Selenium 撰寫動態網頁爬蟲"
   ]
  },
  {
   "cell_type": "markdown",
   "metadata": {},
   "source": [
    "## 作業目標\n",
    "\n",
    "* 1. 請試著利用 Selenium 開啟 Google 網頁，不要關掉。\n",
    "* 2. 請利用剛剛開啟的瀏覽器，切換到 這個網址 網頁，然後關掉。（URL: https://www.cupoy.com/clubnews/ai_tw/0000016E62FB84E4000000026375706F795F72656C656173654B5741535354434C5542/0000016F69B5DB8C000000266375706F795F72656C656173654B5741535354434C55424E455753 ）\n"
   ]
  },
  {
   "cell_type": "code",
   "execution_count": 1,
   "metadata": {},
   "outputs": [],
   "source": [
    "from selenium import webdriver\n",
    "from selenium.webdriver.support.ui import Select\n",
    "from bs4 import BeautifulSoup"
   ]
  },
  {
   "cell_type": "code",
   "execution_count": 2,
   "metadata": {},
   "outputs": [
    {
     "data": {
      "text/plain": [
       "'[Element.prototype,Document.prototype,DocumentFragment.prototype].forEach((function(e){e.hasOwnProperty(\"prepend\")||Object.defineProperty(e,\"prepend\",{configurable:!0,enumerable:!0,writable:!0,value:function(){var e=Array.prototype.slice.call(arguments),t=document.createDocumentFragment();e.forEach((function(e){var n=e instanceof Node;t.appendChild(n?e:document.createTextNode(String(e)))})),this.insertBefore(t,this.firstChild)}})}));var loadDeferredStyles=function(){var e=document.getElementById(\"deferred-styles\"),t=document.createElement(\"div\");t.innerHTML=e.textContent,document.head.prepend(t),e.parentElement.removeChild(e)},raf=window.requestAnimationFrame||window.mozRequestAnimationFrame||window.webkitRequestAnimationFrame||window.msRequestAnimationFrame;raf?raf((function(){window.setTimeout(loadDeferredStyles,0)})):window.addEventListener(\"load\",loadDeferredStyles)!function(t,h,e,j,s,n){t.hj=t.hj||function(){(t.hj.q=t.hj.q||[]).push(arguments)},t._hjSettings={hjid:301739,hjsv:6},s=h.getElementsByTagName(\"head\")[0],(n=h.createElement(\"script\")).async=1,n.src=\"https://static.hotjar.com/c/hotjar-\"+t._hjSettings.hjid+\".js?sv=\"+t._hjSettings.hjsv,s.appendChild(n)}(window,document)!function(e){function f(f){for(var d,t,n=f[0],o=f[1],b=f[2],u=0,l=[];u<n.length;u++)t=n[u],Object.prototype.hasOwnProperty.call(a,t)&&a[t]&&l.push(a[t][0]),a[t]=0;for(d in o)Object.prototype.hasOwnProperty.call(o,d)&&(e[d]=o[d]);for(i&&i(f);l.length;)l.shift()();return r.push.apply(r,b||[]),c()}function c(){for(var e,f=0;f<r.length;f++){for(var c=r[f],d=!0,t=1;t<c.length;t++){var o=c[t];0!==a[o]&&(d=!1)}d&&(r.splice(f--,1),e=n(n.s=c[0]))}return e}var d={},t={23:0},a={23:0},r=[];function n(f){if(d[f])return d[f].exports;var c=d[f]={i:f,l:!1,exports:{}};return e[f].call(c.exports,c,c.exports,n),c.l=!0,c.exports}n.e=function(e){var f=[];t[e]?f.push(t[e]):0!==t[e]&&{7:1,16:1,17:1,30:1,34:1,37:1,50:1,51:1,117:1,121:1}[e]&&f.push(t[e]=new Promise((function(f,c){for(var d=\"static/css/\"+({}[e]||e)+\".\"+{0:\"31d6cfe0\",1:\"31d6cfe0\",2:\"31d6cfe0\",3:\"31d6cfe0\",4:\"31d6cfe0\",5:\"31d6cfe0\",6:\"31d6cfe0\",7:\"22fcc149\",8:\"31d6cfe0\",9:\"31d6cfe0\",10:\"31d6cfe0\",11:\"31d6cfe0\",12:\"31d6cfe0\",13:\"31d6cfe0\",14:\"31d6cfe0\",15:\"31d6cfe0\",16:\"6e7b7be2\",17:\"7c365a51\",18:\"31d6cfe0\",19:\"31d6cfe0\",20:\"31d6cfe0\",21:\"31d6cfe0\",25:\"31d6cfe0\",26:\"31d6cfe0\",27:\"31d6cfe0\",28:\"31d6cfe0\",29:\"31d6cfe0\",30:\"7c365a51\",31:\"31d6cfe0\",32:\"31d6cfe0\",33:\"31d6cfe0\",34:\"22fcc149\",35:\"31d6cfe0\",36:\"31d6cfe0\",37:\"22fcc149\",38:\"31d6cfe0\",39:\"31d6cfe0\",40:\"31d6cfe0\",41:\"31d6cfe0\",42:\"31d6cfe0\",43:\"31d6cfe0\",44:\"31d6cfe0\",45:\"31d6cfe0\",46:\"31d6cfe0\",47:\"31d6cfe0\",48:\"31d6cfe0\",49:\"31d6cfe0\",50:\"7c365a51\",51:\"7c365a51\",52:\"31d6cfe0\",53:\"31d6cfe0\",54:\"31d6cfe0\",55:\"31d6cfe0\",56:\"31d6cfe0\",57:\"31d6cfe0\",58:\"31d6cfe0\",59:\"31d6cfe0\",60:\"31d6cfe0\",61:\"31d6cfe0\",62:\"31d6cfe0\",63:\"31d6cfe0\",64:\"31d6cfe0\",65:\"31d6cfe0\",66:\"31d6cfe0\",67:\"31d6cfe0\",68:\"31d6cfe0\",69:\"31d6cfe0\",70:\"31d6cfe0\",71:\"31d6cfe0\",72:\"31d6cfe0\",73:\"31d6cfe0\",74:\"31d6cfe0\",75:\"31d6cfe0\",76:\"31d6cfe0\",77:\"31d6cfe0\",78:\"31d6cfe0\",79:\"31d6cfe0\",80:\"31d6cfe0\",81:\"31d6cfe0\",82:\"31d6cfe0\",83:\"31d6cfe0\",84:\"31d6cfe0\",85:\"31d6cfe0\",86:\"31d6cfe0\",87:\"31d6cfe0\",88:\"31d6cfe0\",89:\"31d6cfe0\",90:\"31d6cfe0\",91:\"31d6cfe0\",92:\"31d6cfe0\",93:\"31d6cfe0\",94:\"31d6cfe0\",95:\"31d6cfe0\",96:\"31d6cfe0\",97:\"31d6cfe0\",98:\"31d6cfe0\",99:\"31d6cfe0\",100:\"31d6cfe0\",101:\"31d6cfe0\",102:\"31d6cfe0\",103:\"31d6cfe0\",104:\"31d6cfe0\",105:\"31d6cfe0\",106:\"31d6cfe0\",107:\"31d6cfe0\",108:\"31d6cfe0\",109:\"31d6cfe0\",110:\"31d6cfe0\",111:\"31d6cfe0\",112:\"31d6cfe0\",113:\"31d6cfe0\",114:\"31d6cfe0\",115:\"31d6cfe0\",116:\"31d6cfe0\",117:\"d28f2505\",118:\"31d6cfe0\",119:\"31d6cfe0\",120:\"31d6cfe0\",121:\"11f61336\",122:\"31d6cfe0\",123:\"31d6cfe0\",124:\"31d6cfe0\",125:\"31d6cfe0\",126:\"31d6cfe0\",127:\"31d6cfe0\",128:\"31d6cfe0\",129:\"31d6cfe0\",130:\"31d6cfe0\",131:\"31d6cfe0\",132:\"31d6cfe0\",133:\"31d6cfe0\",134:\"31d6cfe0\",135:\"31d6cfe0\",136:\"31d6cfe0\",137:\"31d6cfe0\",138:\"31d6cfe0\",139:\"31d6cfe0\",140:\"31d6cfe0\",141:\"31d6cfe0\",142:\"31d6cfe0\",143:\"31d6cfe0\",144:\"31d6cfe0\"}[e]+\".chunk.css\",a=n.p+d,r=document.getElementsByTagName(\"link\"),o=0;o<r.length;o++){var b=(i=r[o]).getAttribute(\"data-href\")||i.getAttribute(\"href\");if(\"stylesheet\"===i.rel&&(b===d||b===a))return f()}var u=document.getElementsByTagName(\"style\");for(o=0;o<u.length;o++){var i;if((b=(i=u[o]).getAttribute(\"data-href\"))===d||b===a)return f()}var l=document.createElement(\"link\");l.rel=\"stylesheet\",l.type=\"text/css\",l.onload=f,l.onerror=function(f){var d=f&&f.target&&f.target.src||a,r=new Error(\"Loading CSS chunk \"+e+\" failed.\\\\n(\"+d+\")\");r.code=\"CSS_CHUNK_LOAD_FAILED\",r.request=d,delete t[e],l.parentNode.removeChild(l),c(r)},l.href=a,document.getElementsByTagName(\"head\")[0].appendChild(l)})).then((function(){t[e]=0})));var c=a[e];if(0!==c)if(c)f.push(c[2]);else{var d=new Promise((function(f,d){c=a[e]=[f,d]}));f.push(c[2]=d);var r,o=document.createElement(\"script\");o.charset=\"utf-8\",o.timeout=120,n.nc&&o.setAttribute(\"nonce\",n.nc),o.src=function(e){return n.p+\"static/js/\"+({}[e]||e)+\".\"+{0:\"93914f11\",1:\"ca0fbfa7\",2:\"3d518f3c\",3:\"94fbbbd9\",4:\"7df02875\",5:\"771ee781\",6:\"316defb0\",7:\"68a97899\",8:\"760bf0f3\",9:\"10d4af9a\",10:\"f37f06e2\",11:\"49abdcb7\",12:\"91ddc9db\",13:\"cf6d6e99\",14:\"29ea9828\",15:\"9f87871f\",16:\"94cef3b8\",17:\"ae28e95d\",18:\"fb4a02d0\",19:\"34138c25\",20:\"e5abd95e\",21:\"ed7bf0df\",25:\"950d7d41\",26:\"7c8d97f5\",27:\"7b22c0c6\",28:\"3e7cfe64\",29:\"c9c0e34c\",30:\"4af081bf\",31:\"d35d74d9\",32:\"71dcc1db\",33:\"6b2313a7\",34:\"5ed3f6a6\",35:\"a3ff1c3f\",36:\"6c973f74\",37:\"79b44246\",38:\"c28f0c5e\",39:\"4a7c0b52\",40:\"d759ed8b\",41:\"543f74de\",42:\"282c182b\",43:\"c0f13d0e\",44:\"a56a2967\",45:\"f6c48a26\",46:\"0201e127\",47:\"6cda6c32\",48:\"16e184cf\",49:\"4c83ea12\",50:\"847fb8c6\",51:\"a6d7fe72\",52:\"ed6a34c9\",53:\"bf9fe29b\",54:\"8f680388\",55:\"354d299d\",56:\"53bf28bf\",57:\"e44a1669\",58:\"8736eb01\",59:\"a54fffaf\",60:\"79da1e7f\",61:\"51d6f1b5\",62:\"6bbaf496\",63:\"a37312af\",64:\"c6c2714e\",65:\"55aac151\",66:\"954f6e32\",67:\"e269e3ff\",68:\"513db3b4\",69:\"86030eec\",70:\"ff4cf1fd\",71:\"f601cb77\",72:\"99f69d87\",73:\"787e76e6\",74:\"268b485a\",75:\"2904f064\",76:\"ad76a0bf\",77:\"1b2290fd\",78:\"e5ef6b59\",79:\"f243483b\",80:\"87e71109\",81:\"34e134e8\",82:\"ea88933b\",83:\"98a77d96\",84:\"ed4e55f9\",85:\"c74de6ce\",86:\"816387bf\",87:\"20736645\",88:\"e150176a\",89:\"3ed88804\",90:\"8eb247cf\",91:\"ed084146\",92:\"62f55cf3\",93:\"5b41a007\",94:\"bf01cf0d\",95:\"fb9b7567\",96:\"b9dc1bf2\",97:\"cff86023\",98:\"b61d1329\",99:\"3aeee5d4\",100:\"40140b11\",101:\"67a70fcb\",102:\"286980b5\",103:\"89918a66\",104:\"4eb15176\",105:\"acd216b5\",106:\"4f24db60\",107:\"02cdc9c2\",108:\"5acfa2dc\",109:\"ba7011be\",110:\"daefdabd\",111:\"5efc6ca1\",112:\"de62adf0\",113:\"d2bd12cd\",114:\"24174f1e\",115:\"e5e211e1\",116:\"cf82e19e\",117:\"8e2b90cd\",118:\"bef2abe2\",119:\"bfb84503\",120:\"d1ded5fa\",121:\"75fc43b0\",122:\"ec0bb816\",123:\"4faddc3b\",124:\"fca97dab\",125:\"9d218f07\",126:\"cba49db3\",127:\"0e482e6a\",128:\"401aa6ff\",129:\"06a842a4\",130:\"81a0214d\",131:\"ae7f3dab\",132:\"96129f5a\",133:\"31f847be\",134:\"4446a50d\",135:\"4e1db596\",136:\"8bb0d76e\",137:\"7a89ea6c\",138:\"679d0ba5\",139:\"34deca09\",140:\"f491ab8d\",141:\"9544ff04\",142:\"f6191b30\",143:\"7ef0ed09\",144:\"73592faa\"}[e]+\".chunk.js\"}(e);var b=new Error;r=function(f){o.onerror=o.onload=null,clearTimeout(u);var c=a[e];if(0!==c){if(c){var d=f&&(\"load\"===f.type?\"missing\":f.type),t=f&&f.target&&f.target.src;b.message=\"Loading chunk \"+e+\" failed.\\\\n(\"+d+\": \"+t+\")\",b.name=\"ChunkLoadError\",b.type=d,b.request=t,c[1](b)}a[e]=void 0}};var u=setTimeout((function(){r({type:\"timeout\",target:o})}),12e4);o.onerror=o.onload=r,document.head.appendChild(o)}return Promise.all(f)},n.m=e,n.c=d,n.d=function(e,f,c){n.o(e,f)||Object.defineProperty(e,f,{enumerable:!0,get:c})},n.r=function(e){\"undefined\"!=typeof Symbol&&Symbol.toStringTag&&Object.defineProperty(e,Symbol.toStringTag,{value:\"Module\"}),Object.defineProperty(e,\"__esModule\",{value:!0})},n.t=function(e,f){if(1&f&&(e=n(e)),8&f)return e;if(4&f&&\"object\"==typeof e&&e&&e.__esModule)return e;var c=Object.create(null);if(n.r(c),Object.defineProperty(c,\"default\",{enumerable:!0,value:e}),2&f&&\"string\"!=typeof e)for(var d in e)n.d(c,d,function(f){return e[f]}.bind(null,d));return c},n.n=function(e){var f=e&&e.__esModule?function(){return e.default}:function(){return e};return n.d(f,\"a\",f),f},n.o=function(e,f){return Object.prototype.hasOwnProperty.call(e,f)},n.p=\"https://hahow.in/\",n.oe=function(e){throw console.error(e),e};var o=this[\"webpackJsonphh-frontend-react\"]=this[\"webpackJsonphh-frontend-react\"]||[],b=o.push.bind(o);o.push=f,o=o.slice();for(var u=0;u<o.length;u++)f(o[u]);var i=b;c()}([])'"
      ]
     },
     "execution_count": 2,
     "metadata": {},
     "output_type": "execute_result"
    }
   ],
   "source": [
    "# 1. 請試著利用 Selenium 開啟 Google 網頁，不要關掉。\n",
    "\n",
    "'''\n",
    "Your Code\n",
    "'''\n",
    "import requests\n",
    "from bs4 import BeautifulSoup\n",
    "\n",
    "r = requests.get(\"https://hahow.in/courses\")\n",
    "d = BeautifulSoup(r.text, 'html5lib')\n",
    "\n",
    "d.body.text"
   ]
  },
  {
   "cell_type": "code",
   "execution_count": 3,
   "metadata": {},
   "outputs": [],
   "source": [
    "# 2. 請利用剛剛開啟的瀏覽器，切換到 這個網址 網頁，取得網頁內容。\n",
    "# URL: https://www.cupoy.com/clubnews/ai_tw/0000016E62FB84E4000000026375706F795F72656C656173654B5741535354434C5542/0000016F69B5DB8C000000266375706F795F72656C656173654B5741535354434C55424E455753\n",
    "\n",
    "'''\n",
    "Your Code\n",
    "'''\n",
    "browser = webdriver.Chrome(executable_path='./chromedriver')\n",
    "browser.get(\"https://hahow.in/courses\")"
   ]
  },
  {
   "cell_type": "code",
   "execution_count": 4,
   "metadata": {},
   "outputs": [],
   "source": [
    "# 3. 將瀏覽器關閉\n",
    "\n",
    "'''\n",
    "Your Code\n",
    "'''\n",
    "browser.close()"
   ]
  },
  {
   "cell_type": "code",
   "execution_count": 5,
   "metadata": {},
   "outputs": [
    {
     "ename": "SyntaxError",
     "evalue": "invalid syntax (<ipython-input-5-20f7247c8d89>, line 3)",
     "output_type": "error",
     "traceback": [
      "\u001b[0;36m  File \u001b[0;32m\"<ipython-input-5-20f7247c8d89>\"\u001b[0;36m, line \u001b[0;32m3\u001b[0m\n\u001b[0;31m    * 了解 Selenium 用於動態網頁爬蟲的原理\u001b[0m\n\u001b[0m         ^\u001b[0m\n\u001b[0;31mSyntaxError\u001b[0m\u001b[0;31m:\u001b[0m invalid syntax\n"
     ]
    }
   ],
   "source": [
    "# 動態網頁爬蟲 - 使用 Selenium\n",
    "\n",
    "* 了解 Selenium 用於動態網頁爬蟲的原理\n",
    "* 能夠使用 Selenium 撰寫動態網頁爬蟲\n",
    "\n",
    "## 作業目標\n",
    "\n",
    "* 1. 請試著利用 Selenium 開啟 Google 網頁，不要關掉。\n",
    "* 2. 請利用剛剛開啟的瀏覽器，切換到 這個網址 網頁，然後關掉。（URL: https://www.cupoy.com/clubnews/ai_tw/0000016E62FB84E4000000026375706F795F72656C656173654B5741535354434C5542/0000016F69B5DB8C000000266375706F795F72656C656173654B5741535354434C55424E455753 ）\n",
    "\n",
    "\n",
    "from selenium import webdriver\n",
    "from selenium.webdriver.support.ui import Select\n",
    "from bs4 import BeautifulSoup\n",
    "\n",
    "# 1. 請試著利用 Selenium 開啟 Google 網頁，不要關掉。\n",
    "browser = webdriver.Chrome(executable_path='chromedriver')\n",
    "browser.get(\"https://www.google.com/\")\n",
    "\n",
    "# 2. 請利用剛剛開啟的瀏覽器，切換到 這個網址 網頁。\n",
    "# URL: https://www.cupoy.com/clubnews/ai_tw/0000016E62FB84E4000000026375706F795F72656C656173654B5741535354434C5542/0000016F69B5DB8C000000266375706F795F72656C656173654B5741535354434C55424E455753\n",
    "\n",
    "browser.get(\"https://www.cupoy.com/clubnews/ai_tw/0000016E62FB84E4000000026375706F795F72656C656173654B5741535354434C5542/0000016F69B5DB8C000000266375706F795F72656C656173654B5741535354434C55424E455753\")\n",
    "\n",
    "\n",
    "# 3. 將瀏覽器關閉\n",
    "\n",
    "browser.close()"
   ]
  }
 ],
 "metadata": {
  "kernelspec": {
   "display_name": "Python 3",
   "language": "python",
   "name": "python3"
  },
  "language_info": {
   "codemirror_mode": {
    "name": "ipython",
    "version": 3
   },
   "file_extension": ".py",
   "mimetype": "text/x-python",
   "name": "python",
   "nbconvert_exporter": "python",
   "pygments_lexer": "ipython3",
   "version": "3.8.2"
  }
 },
 "nbformat": 4,
 "nbformat_minor": 2
}
