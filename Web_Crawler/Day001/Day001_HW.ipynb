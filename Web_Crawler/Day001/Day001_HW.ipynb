{
 "cells": [
  {
   "cell_type": "code",
   "execution_count": 3,
   "metadata": {},
   "outputs": [],
   "source": [
    "from urllib.request import urlretrieve\n",
    "import os\n",
    "\n",
    "url = 'https://www.w3.org/TR/PNG/iso_8859-1.txt'\n",
    "fileName = 'Homework.txt'\n",
    "\n",
    "try:\n",
    "    os.makedirs( './Data', exist_ok=True )\n",
    "    path = './Data'\n",
    "    filePath = os.path.join(path, fileName)\n",
    "\n",
    "    urlretrieve(url, filePath)\n",
    "except:\n",
    "    print('failed to download file')\n",
    "\n",
    "\n"
   ]
  },
  {
   "cell_type": "code",
   "execution_count": 5,
   "metadata": {},
   "outputs": [
    {
     "name": "stdout",
     "output_type": "stream",
     "text": [
      "Homework.txt exists\n"
     ]
    }
   ],
   "source": [
    "files = os.listdir('./Data')\n",
    "exist = fileName in files\n",
    "\n",
    "if exist:\n",
    "    print(f'[O] {fileName} exists')\n",
    "else:\n",
    "    print(f'[X] {fileName} does not exist')"
   ]
  },
  {
   "cell_type": "code",
   "execution_count": 6,
   "metadata": {},
   "outputs": [],
   "source": [
    "with open(filePath, 'w') as fWriter:\n",
    "    fWriter.write('Hello World')"
   ]
  },
  {
   "cell_type": "code",
   "execution_count": 7,
   "metadata": {},
   "outputs": [
    {
     "name": "stdout",
     "output_type": "stream",
     "text": [
      "11\n"
     ]
    }
   ],
   "source": [
    "try:\n",
    "    with open(filePath, 'r') as fReader:\n",
    "        content = fReader.read()\n",
    "\n",
    "except EnvironmentError:\n",
    "    pass"
   ]
  },
  {
   "cell_type": "code",
   "execution_count": null,
   "metadata": {},
   "outputs": [],
   "source": [
    "if len('Hello World') == len(content):\n",
    "    print('[O] check whether the counts of words in Homework.txt are the same as that of Hello World')\n",
    "else:\n",
    "    print('[X] check whether the counts of words in Homework.txt are the same as that of Hello World')"
   ]
  }
 ],
 "metadata": {
  "kernelspec": {
   "display_name": "Python 3",
   "language": "python",
   "name": "python3"
  },
  "language_info": {
   "codemirror_mode": {
    "name": "ipython",
    "version": 3
   },
   "file_extension": ".py",
   "mimetype": "text/x-python",
   "name": "python",
   "nbconvert_exporter": "python",
   "pygments_lexer": "ipython3",
   "version": "3.8.2"
  }
 },
 "nbformat": 4,
 "nbformat_minor": 4
}
