{
 "cells": [
  {
   "cell_type": "code",
   "execution_count": 1,
   "metadata": {},
   "outputs": [
    {
     "name": "stdout",
     "output_type": "stream",
     "text": [
      "這個 API 一次會回傳30筆資料\n"
     ]
    }
   ],
   "source": [
    "import requests\n",
    "import json\n",
    "\n",
    "url_true = 'https://www.dcard.tw/_api/forums/pet/posts?popular=true'\n",
    "r_popular = requests.get(url_true)\n",
    "data_popular = json.loads(r_popular.text)\n",
    "\n",
    "print(f\"這個 API 一次會回傳{len(data_popular)}筆資料\")\n"
   ]
  },
  {
   "cell_type": "code",
   "execution_count": 2,
   "metadata": {},
   "outputs": [
    {
     "name": "stdout",
     "output_type": "stream",
     "text": [
      "下列為每筆資料包含的欄位: ['id', 'title', 'excerpt', 'anonymousSchool', 'anonymousDepartment', 'pinned', 'forumId', 'replyId', 'createdAt', 'updatedAt', 'commentCount', 'likeCount', 'withNickname', 'tags', 'topics', 'meta', 'forumName', 'forumAlias', 'nsfw', 'gender', 'school', 'replyTitle', 'mediaMeta', 'reactions', 'hidden', 'customStyle', 'isSuspiciousAccount', 'layout', 'withImages', 'withVideos', 'media', 'reportReasonText', 'postAvatar']\n"
     ]
    }
   ],
   "source": [
    "columns = []\n",
    "\n",
    "for column in data_popular[0].keys():\n",
    "    columns.append(column)\n",
    "\n",
    "print(f\"下列為每筆資料包含的欄位: {columns}\")"
   ]
  },
  {
   "cell_type": "code",
   "execution_count": 3,
   "metadata": {},
   "outputs": [
    {
     "name": "stdout",
     "output_type": "stream",
     "text": [
      "title: 我姐收容所的貓咪們\n",
      "create time: 2020-05-15T03:51:12.247Z\n",
      "comment count: 35\n",
      "like count: 465\n",
      "title: 那個誰家今晚有空房？\n",
      "create time: 2020-05-15T12:43:53.772Z\n",
      "comment count: 18\n",
      "like count: 350\n",
      "title: 壁虎蛋孵化\n",
      "create time: 2020-05-16T00:40:36.723Z\n",
      "comment count: 10\n",
      "like count: 57\n",
      "title: 矛盾大對決：最會撥東西的主子VS撥到地上沒事的香氛產品\n",
      "create time: 2020-05-15T10:49:15.883Z\n",
      "comment count: 7\n",
      "like count: 41\n",
      "title: 獨眼怪🤔\n",
      "create time: 2020-05-15T07:17:05.346Z\n",
      "comment count: 1\n",
      "like count: 28\n",
      "title: 叫歐告的橘貓🐈\n",
      "create time: 2020-05-15T15:21:49.924Z\n",
      "comment count: 4\n",
      "like count: 20\n",
      "title: 猜猜看我是什麼狗\n",
      "create time: 2020-05-15T07:14:24.353Z\n",
      "comment count: 3\n",
      "like count: 18\n",
      "title: 刀馬旦之薩摩耶來也～～～\n",
      "create time: 2020-05-15T11:26:04.252Z\n",
      "comment count: 4\n",
      "like count: 17\n",
      "title: 苗栗高鐵站貓咪協尋 獎金五萬\n",
      "create time: 2020-05-16T02:53:56.065Z\n",
      "comment count: 3\n",
      "like count: 15\n",
      "title: #鼠鼠 我想看大家的鼠鼠🐹\n",
      "create time: 2020-05-16T03:46:27.636Z\n",
      "comment count: 14\n",
      "like count: 11\n",
      "title: 到底有什麼好吵的\n",
      "create time: 2020-05-15T23:46:21.260Z\n",
      "comment count: 18\n",
      "like count: 11\n",
      "title: 找主人(虎斑貓、剪耳、尾巴彎彎)\n",
      "create time: 2020-05-15T14:24:26.162Z\n",
      "comment count: 0\n",
      "like count: 10\n",
      "title: 詢問？為什麼我的貓看起來這麼笨？\n",
      "create time: 2020-05-15T08:07:07.255Z\n",
      "comment count: 2\n",
      "like count: 10\n",
      "title: 高雄三民區-貓咪認養\n",
      "create time: 2020-05-15T06:45:02.628Z\n",
      "comment count: 0\n",
      "like count: 10\n",
      "title: 好毛\n",
      "create time: 2020-05-15T02:21:46.069Z\n",
      "comment count: 2\n",
      "like count: 10\n",
      "title: #養寵理財規劃\n",
      "create time: 2020-05-15T12:54:32.631Z\n",
      "comment count: 0\n",
      "like count: 9\n",
      "title: 友善寵物餐廳\n",
      "create time: 2020-05-16T01:45:54.260Z\n",
      "comment count: 0\n",
      "like count: 8\n",
      "title: 狗送去寵物店洗澡懷孕\n",
      "create time: 2020-05-16T09:59:23.977Z\n",
      "comment count: 6\n",
      "like count: 7\n",
      "title: 我家的喵星人(灬ºωº灬)♡\n",
      "create time: 2020-05-15T14:50:29.211Z\n",
      "comment count: 2\n",
      "like count: 7\n",
      "title: #法鬥 法鬥也想打美式足球？\n",
      "create time: 2020-05-15T11:11:34.297Z\n",
      "comment count: 0\n",
      "like count: 7\n",
      "title: 交出你的貓(˶‾᷄ ⁻̫ ‾᷅˵)\n",
      "create time: 2020-05-16T08:37:23.641Z\n",
      "comment count: 2\n",
      "like count: 6\n",
      "title: 紀錄三個孩子的故事\n",
      "create time: 2020-05-15T02:17:16.516Z\n",
      "comment count: 0\n",
      "like count: 6\n",
      "title: （尋狗）5/14於台中大雅失蹤\n",
      "create time: 2020-05-15T12:47:48.988Z\n",
      "comment count: 3\n",
      "like count: 5\n",
      "title: 尋找樹德科大的喵喵🥺\n",
      "create time: 2020-05-15T06:00:14.262Z\n",
      "comment count: 1\n",
      "like count: 5\n",
      "title: 幼貓水便原因\n",
      "create time: 2020-05-16T08:50:00.213Z\n",
      "comment count: 8\n",
      "like count: 4\n",
      "title: 於是做了支短片\n",
      "create time: 2020-05-16T05:15:04.548Z\n",
      "comment count: 0\n",
      "like count: 4\n",
      "title: 這麼過份不上網公佈不行！\n",
      "create time: 2020-05-16T05:46:27.985Z\n",
      "comment count: 0\n",
      "like count: 3\n",
      "title: 雙下巴的懵逼柴犬\n",
      "create time: 2020-05-16T04:42:02.425Z\n",
      "comment count: 0\n",
      "like count: 3\n",
      "title: 暗黑飼育學-萌寵群體餵食秀\n",
      "create time: 2020-05-15T14:33:02.928Z\n",
      "comment count: 0\n",
      "like count: 3\n",
      "title: 請大家幫幫忙找狗狗！台中逢甲商圈\n",
      "create time: 2020-05-15T13:16:43.470Z\n",
      "comment count: 0\n",
      "like count: 3\n"
     ]
    }
   ],
   "source": [
    "popular_commentCount = 0\n",
    "popular_likeCount = 0\n",
    "for row in data_popular:\n",
    "    print(f\"title: {row['title']}\")\n",
    "    print(f\"create time: {row['createdAt']}\")\n",
    "    \n",
    "    commentCount = row['commentCount']\n",
    "    likeCount = row['likeCount']\n",
    "    popular_commentCount += commentCount\n",
    "    popular_likeCount += likeCount\n",
    "    \n",
    "    print(f\"comment count: {commentCount}\")\n",
    "    print(f\"like count: {likeCount}\")"
   ]
  },
  {
   "cell_type": "code",
   "execution_count": 4,
   "metadata": {},
   "outputs": [],
   "source": [
    "url_flase = 'https://www.dcard.tw/_api/forums/pet/posts?popular=false'\n",
    "r_unpopular = requests.get(url_flase)\n",
    "data_unpopular = json.loads(r_unpopular.text)"
   ]
  },
  {
   "cell_type": "code",
   "execution_count": 5,
   "metadata": {},
   "outputs": [
    {
     "name": "stdout",
     "output_type": "stream",
     "text": [
      "熱門文章平均留言人數: 4.766666666666667\n",
      "熱門文章平均按讚人數: 38.43333333333333\n",
      "非熱門文章平均留言人數: 0.0\n",
      "非熱門文章平均按讚人數: 3.0\n"
     ]
    }
   ],
   "source": [
    "unpopular_commentCount = 0\n",
    "unpopular_likeCount = 0\n",
    "\n",
    "for row in data_unpopular:\n",
    "    unpopular_commentCount += commentCount\n",
    "    unpopular_likeCount += likeCount\n",
    "\n",
    "print(f\"熱門文章平均留言人數: {popular_commentCount / len(data_popular)}\")\n",
    "print(f\"熱門文章平均按讚人數: {popular_likeCount / len(data_popular)}\")\n",
    "print(f\"非熱門文章平均留言人數: {unpopular_commentCount / len(data_unpopular)}\")\n",
    "print(f\"非熱門文章平均按讚人數: {unpopular_likeCount / len(data_unpopular)}\")"
   ]
  },
  {
   "cell_type": "code",
   "execution_count": null,
   "metadata": {},
   "outputs": [],
   "source": []
  }
 ],
 "metadata": {
  "kernelspec": {
   "display_name": "Python 3",
   "language": "python",
   "name": "python3"
  },
  "language_info": {
   "codemirror_mode": {
    "name": "ipython",
    "version": 3
   },
   "file_extension": ".py",
   "mimetype": "text/x-python",
   "name": "python",
   "nbconvert_exporter": "python",
   "pygments_lexer": "ipython3",
   "version": "3.8.2"
  }
 },
 "nbformat": 4,
 "nbformat_minor": 4
}
