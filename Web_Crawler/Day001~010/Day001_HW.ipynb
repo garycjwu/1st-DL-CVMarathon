{
 "cells": [
  {
   "cell_type": "code",
   "execution_count": null,
   "metadata": {},
   "outputs": [],
   "source": [
    "1.（簡答題）檔案、API、爬蟲三種取得資料方式有什麼不同？\n",
    "\n",
    "檔案: 資料會包成檔案提供下載，格式可能包含常用的標準格式，例如「CSV」、「JSON」等等通用的格式。\n",
    "\n",
    "開放接口(API): 提供程式化的連接的接口，讓工程師/分析師可以選擇資料中要讀取的特定部分，而不需要把整批資料事先完整下載回來\n",
    "\n",
    "爬蟲: 資料沒有以檔案或API提供，但出現在網頁上。可以利用爬蟲程式，將網頁的資料解析所需的部分。"
   ]
  },
  {
   "cell_type": "code",
   "execution_count": 1,
   "metadata": {},
   "outputs": [],
   "source": [
    "from urllib.request import urlretrieve\n",
    "import os\n",
    "\n",
    "url = 'https://www.w3.org/TR/PNG/iso_8859-1.txt'\n",
    "fileName = 'Homework.txt'\n",
    "\n",
    "try:\n",
    "    os.makedirs( './Data', exist_ok=True )\n",
    "    path = './Data'\n",
    "    filePath = os.path.join(path, fileName)\n",
    "\n",
    "    urlretrieve(url, filePath)\n",
    "except:\n",
    "    print('failed to download file')\n",
    "\n",
    "\n"
   ]
  },
  {
   "cell_type": "code",
   "execution_count": 2,
   "metadata": {},
   "outputs": [
    {
     "name": "stdout",
     "output_type": "stream",
     "text": [
      "[O] Homework.txt exists\n"
     ]
    }
   ],
   "source": [
    "files = os.listdir('./Data')\n",
    "exist = fileName in files\n",
    "\n",
    "if exist:\n",
    "    print(f'[O] {fileName} exists')\n",
    "else:\n",
    "    print(f'[X] {fileName} does not exist')"
   ]
  },
  {
   "cell_type": "code",
   "execution_count": 3,
   "metadata": {},
   "outputs": [],
   "source": [
    "with open(filePath, 'w') as fWriter:\n",
    "    fWriter.write('Hello World')"
   ]
  },
  {
   "cell_type": "code",
   "execution_count": 4,
   "metadata": {},
   "outputs": [],
   "source": [
    "try:\n",
    "    with open(filePath, 'r') as fReader:\n",
    "        content = fReader.read()\n",
    "\n",
    "except EnvironmentError:\n",
    "    pass"
   ]
  },
  {
   "cell_type": "code",
   "execution_count": 5,
   "metadata": {},
   "outputs": [
    {
     "name": "stdout",
     "output_type": "stream",
     "text": [
      "[O] check whether the counts of words in Homework.txt are the same as that of Hello World\n"
     ]
    }
   ],
   "source": [
    "if len('Hello World') == len(content):\n",
    "    print('[O] check whether the counts of words in Homework.txt are the same as that of Hello World')\n",
    "else:\n",
    "    print('[X] check whether the counts of words in Homework.txt are the same as that of Hello World')"
   ]
  },
  {
   "cell_type": "code",
   "execution_count": null,
   "metadata": {},
   "outputs": [],
   "source": []
  }
 ],
 "metadata": {
  "kernelspec": {
   "display_name": "Python 3",
   "language": "python",
   "name": "python3"
  },
  "language_info": {
   "codemirror_mode": {
    "name": "ipython",
    "version": 3
   },
   "file_extension": ".py",
   "mimetype": "text/x-python",
   "name": "python",
   "nbconvert_exporter": "python",
   "pygments_lexer": "ipython3",
   "version": "3.8.2"
  }
 },
 "nbformat": 4,
 "nbformat_minor": 4
}
