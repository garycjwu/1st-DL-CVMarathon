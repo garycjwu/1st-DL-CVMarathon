{
 "cells": [
  {
   "cell_type": "code",
   "execution_count": 1,
   "metadata": {},
   "outputs": [],
   "source": [
    "import numpy as np\n",
    "#import sklearn as sk\n",
    "#import matplotlib.pyplot as plt\n",
    "import pandas as pd\n",
    "\n",
    "#from sklearn.linear_model import LogisticRegression\n",
    "#from sklearn.linear_model import Perceptron\n",
    "#from sklearn import tree\n",
    "from sklearn.neighbors import KNeighborsClassifier\n",
    "from sklearn.ensemble import RandomForestClassifier\n",
    "from sklearn.model_selection import GridSearchCV, cross_val_score\n",
    "from sklearn.ensemble import VotingClassifier\n",
    "#from sklearn import svm"
   ]
  },
  {
   "cell_type": "code",
   "execution_count": 2,
   "metadata": {},
   "outputs": [
    {
     "name": "stdout",
     "output_type": "stream",
     "text": [
      "training_x Shape: (999, 40) ,training_y Shape: (999,) ,testing_x Shape: (8999, 40)\n",
      "x_all shape : (9998, 40)\n"
     ]
    }
   ],
   "source": [
    "#### READING OUR GIVEN DATA INTO PANDAS DATAFRAME ####\n",
    "x_train = pd.read_csv('train.csv')\n",
    "y_train = pd.read_csv('trainLabels.csv')\n",
    "x_test = pd.read_csv('test.csv')\n",
    "x_train = np.asarray(x_train)\n",
    "y_train = np.asarray(y_train)\n",
    "x_test = np.asarray(x_test)\n",
    "y_train = y_train.ravel()\n",
    "print('training_x Shape:',x_train.shape,',training_y Shape:',y_train.shape, ',testing_x Shape:',x_test.shape)\n",
    "\n",
    "#Checking the models\n",
    "x_all = np.r_[x_train,x_test]\n",
    "print('x_all shape :',x_all.shape)"
   ]
  },
  {
   "cell_type": "code",
   "execution_count": 3,
   "metadata": {},
   "outputs": [
    {
     "name": "stdout",
     "output_type": "stream",
     "text": [
      "This bic: 1641320.4854730715\n",
      "Current lowest bic: inf\n",
      "This bic: 1584323.0892013817\n",
      "Current lowest bic: 1641320.4854730715\n",
      "This bic: 1542270.881243344\n",
      "Current lowest bic: 1584323.0892013817\n",
      "This bic: 1523689.187087485\n",
      "Current lowest bic: 1542270.881243344\n",
      "This bic: 1508961.0359495592\n",
      "Current lowest bic: 1523689.187087485\n",
      "This bic: 1498347.5814400476\n",
      "Current lowest bic: 1508961.0359495592\n",
      "This bic: 909309.3112573357\n",
      "Current lowest bic: 1498347.5814400476\n",
      "This bic: 906194.4502941675\n",
      "Current lowest bic: 909309.3112573357\n",
      "This bic: 904621.167007703\n",
      "Current lowest bic: 906194.4502941675\n",
      "This bic: 903306.4368797743\n",
      "Current lowest bic: 904621.167007703\n",
      "This bic: 902258.887177366\n",
      "Current lowest bic: 903306.4368797743\n",
      "This bic: 894239.3844794282\n",
      "Current lowest bic: 902258.887177366\n",
      "This bic: 866620.615364033\n",
      "Current lowest bic: 894239.3844794282\n",
      "This bic: 829040.2702080137\n",
      "Current lowest bic: 866620.615364033\n"
     ]
    }
   ],
   "source": [
    "#### USING THE GAUSSIAN MIXTURE MODEL ####\n",
    "from sklearn.mixture import GaussianMixture\n",
    "lowest_bic = np.infty\n",
    "bic = []\n",
    "n_components_range = range(1, 7)\n",
    "cv_types = ['spherical', 'tied', 'diag', 'full']\n",
    "for cv_type in cv_types:\n",
    "    for n_components in n_components_range:\n",
    "        # Fit a mixture of Gaussians with EM\n",
    "        gmm = GaussianMixture(n_components=n_components,covariance_type=cv_type)\n",
    "        gmm.fit(x_all)\n",
    "        bic.append(gmm.aic(x_all))\n",
    "        if bic[-1] < lowest_bic:\n",
    "            print(f'This bic: {bic[-1]}')\n",
    "            print(f'Current lowest bic: {lowest_bic}')\n",
    "            lowest_bic = bic[-1]\n",
    "            best_gmm = gmm\n",
    "\n",
    "best_gmm.fit(x_all)\n",
    "x_train = best_gmm.predict_proba(x_train)\n",
    "x_test = best_gmm.predict_proba(x_test)\n"
   ]
  },
  {
   "cell_type": "code",
   "execution_count": 4,
   "metadata": {},
   "outputs": [
    {
     "name": "stdout",
     "output_type": "stream",
     "text": [
      "best estimator KNN: KNeighborsClassifier(algorithm='auto', leaf_size=30, metric='minkowski',\n",
      "                     metric_params=None, n_jobs=None, n_neighbors=5, p=2,\n",
      "                     weights='uniform') Best Score 0.995995995995996\n",
      "Fitting 10 folds for each of 1 candidates, totalling 10 fits\n",
      "[CV]  ................................................................\n",
      "[CV] .................................... , score=1.000, total=   0.2s\n",
      "[CV]  ................................................................\n"
     ]
    },
    {
     "name": "stderr",
     "output_type": "stream",
     "text": [
      "[Parallel(n_jobs=1)]: Using backend SequentialBackend with 1 concurrent workers.\n",
      "[Parallel(n_jobs=1)]: Done   1 out of   1 | elapsed:    0.2s remaining:    0.0s\n"
     ]
    },
    {
     "name": "stdout",
     "output_type": "stream",
     "text": [
      "[CV] .................................... , score=1.000, total=   0.2s\n",
      "[CV]  ................................................................\n",
      "[CV] .................................... , score=1.000, total=   0.2s\n",
      "[CV]  ................................................................\n"
     ]
    },
    {
     "name": "stderr",
     "output_type": "stream",
     "text": [
      "[Parallel(n_jobs=1)]: Done   2 out of   2 | elapsed:    0.4s remaining:    0.0s\n"
     ]
    },
    {
     "name": "stdout",
     "output_type": "stream",
     "text": [
      "[CV] .................................... , score=0.990, total=   0.2s\n",
      "[CV]  ................................................................\n",
      "[CV] .................................... , score=1.000, total=   0.2s\n",
      "[CV]  ................................................................\n",
      "[CV] .................................... , score=1.000, total=   0.2s\n",
      "[CV]  ................................................................\n",
      "[CV] .................................... , score=0.990, total=   0.2s\n",
      "[CV]  ................................................................\n",
      "[CV] .................................... , score=1.000, total=   0.2s\n",
      "[CV]  ................................................................\n",
      "[CV] .................................... , score=0.980, total=   0.2s\n",
      "[CV]  ................................................................\n",
      "[CV] .................................... , score=1.000, total=   0.2s\n",
      "best estimator RandomForest: RandomForestClassifier(bootstrap=True, ccp_alpha=0.0, class_weight=None,\n",
      "                       criterion='gini', max_depth=None, max_features='auto',\n",
      "                       max_leaf_nodes=None, max_samples=None,\n",
      "                       min_impurity_decrease=0.0, min_impurity_split=None,\n",
      "                       min_samples_leaf=1, min_samples_split=2,\n",
      "                       min_weight_fraction_leaf=0.0, n_estimators=100,\n",
      "                       n_jobs=None, oob_score=False, random_state=None,\n",
      "                       verbose=0, warm_start=False) Best Score 0.997997997997998\n"
     ]
    },
    {
     "name": "stderr",
     "output_type": "stream",
     "text": [
      "[Parallel(n_jobs=1)]: Done  10 out of  10 | elapsed:    1.8s finished\n"
     ]
    }
   ],
   "source": [
    "#### TAKING ONLY TWO MODELS FOR KEEPING IT SIMPLE ####\n",
    "knn = KNeighborsClassifier()\n",
    "rf = RandomForestClassifier()\n",
    "\n",
    "param_grid = dict( )\n",
    "#### GRID SEARCH for BEST TUNING PARAMETERS FOR KNN #####\n",
    "grid_search_knn = GridSearchCV(knn,param_grid=param_grid,cv=10,scoring='accuracy').fit(x_train,y_train)\n",
    "print('best estimator KNN:',grid_search_knn.best_estimator_,'Best Score', grid_search_knn.best_estimator_.score(x_train,y_train))\n",
    "knn_best = grid_search_knn.best_estimator_\n",
    "\n",
    "#### GRID SEARCH for BEST TUNING PARAMETERS FOR RandomForest #####\n",
    "grid_search_rf = GridSearchCV(rf, param_grid=dict( ), verbose=3,scoring='accuracy',cv=10).fit(x_train,y_train)\n",
    "print('best estimator RandomForest:',grid_search_rf.best_estimator_,'Best Score', grid_search_rf.best_estimator_.score(x_train,y_train))\n",
    "rf_best = grid_search_rf.best_estimator_"
   ]
  },
  {
   "cell_type": "code",
   "execution_count": 5,
   "metadata": {},
   "outputs": [
    {
     "name": "stdout",
     "output_type": "stream",
     "text": [
      "[0 1 0 0 0 0 1 0 0 1]\n",
      "[0 1 0 0 0 0 1 0 0 1]\n",
      "Score for KNN : 0.9960000000000001\n",
      "Score for Random Forest : 1.0\n"
     ]
    }
   ],
   "source": [
    "knn_best.fit(x_train,y_train)\n",
    "print(knn_best.predict(x_test)[0:10])\n",
    "rf_best.fit(x_train,y_train)\n",
    "print(rf_best.predict(x_test)[0:10])\n",
    "\n",
    "#### SCORING THE MODELS ####\n",
    "print('Score for KNN :',cross_val_score(knn_best,x_train,y_train,cv=10,scoring='accuracy').mean())\n",
    "print('Score for Random Forest :',cross_val_score(rf_best,x_train,y_train,cv=10,scoring='accuracy').max())"
   ]
  },
  {
   "cell_type": "code",
   "execution_count": 6,
   "metadata": {},
   "outputs": [],
   "source": [
    "### IN CASE WE WERE USING MORE THAN ONE CLASSIFIERS THEN VOTING CLASSIFIER CAN BE USEFUL ###\n",
    "#clf = VotingClassifier(\n",
    "#\t\testimators=[('knn_best',knn_best),('rf_best',rf_best)],\n",
    "#\t\t#weights=[871856020222,0.907895269918]\n",
    "#\t)\n",
    "#clf.fit(x_train,y_train)\n",
    "#print clf.predict(x_test)[0:10]\n"
   ]
  },
  {
   "cell_type": "code",
   "execution_count": 7,
   "metadata": {},
   "outputs": [],
   "source": [
    "##### FRAMING OUR SOLUTION #####\n",
    "knn_best_pred = pd.DataFrame(knn_best.predict(x_test))\n",
    "rf_best_pred = pd.DataFrame(rf_best.predict(x_test))\n",
    "#voting_clf_pred = pd.DataFrame(clf.predict(x_test))\n",
    "\n",
    "knn_best_pred.index += 1\n",
    "rf_best_pred.index += 1\n",
    "#voting_clf_pred.index += 1\n",
    "\n",
    "#knn_best_pred.to_csv('knn_best_pred.csv')\n",
    "rf_best_pred.to_csv('Submission.csv')\n",
    "#voting_clf_pred.to_csv('voting_clf_pred.csv')"
   ]
  },
  {
   "cell_type": "code",
   "execution_count": null,
   "metadata": {},
   "outputs": [],
   "source": []
  }
 ],
 "metadata": {
  "kernelspec": {
   "display_name": "Python 3",
   "language": "python",
   "name": "python3"
  },
  "language_info": {
   "codemirror_mode": {
    "name": "ipython",
    "version": 3
   },
   "file_extension": ".py",
   "mimetype": "text/x-python",
   "name": "python",
   "nbconvert_exporter": "python",
   "pygments_lexer": "ipython3",
   "version": "3.8.2"
  }
 },
 "nbformat": 4,
 "nbformat_minor": 4
}
