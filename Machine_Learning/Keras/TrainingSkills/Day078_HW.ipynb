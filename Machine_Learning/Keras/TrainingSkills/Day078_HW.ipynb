{
 "cells": [
  {
   "cell_type": "markdown",
   "metadata": {},
   "source": [
    "## Work\n",
    "1. 請嘗試將 preproc_x 替換成以每筆資料的 min/max 進行標準化至 -1 ~ 1 間，再進行訓練\n",
    "2. 請嘗試將 mlp 疊更深 (e.g 5~10 層)，進行訓練後觀察 learning curve 的走勢\n",
    "3. (optional) 請改用 GPU 進行訓練 (如果你有 GPU 的話)，比較使用 CPU 與 GPU 的訓練速度"
   ]
  },
  {
   "cell_type": "code",
   "execution_count": 1,
   "metadata": {},
   "outputs": [
    {
     "name": "stdout",
     "output_type": "stream",
     "text": [
      "Thu Jul 16 15:38:56 2020       \n",
      "+-----------------------------------------------------------------------------+\n",
      "| NVIDIA-SMI 431.87       Driver Version: 431.87       CUDA Version: 10.1     |\n",
      "|-------------------------------+----------------------+----------------------+\n",
      "| GPU  Name            TCC/WDDM | Bus-Id        Disp.A | Volatile Uncorr. ECC |\n",
      "| Fan  Temp  Perf  Pwr:Usage/Cap|         Memory-Usage | GPU-Util  Compute M. |\n",
      "|===============================+======================+======================|\n",
      "|   0  GeForce MX250      WDDM  | 00000000:06:00.0 Off |                  N/A |\n",
      "| N/A   42C    P8    N/A /  N/A |     64MiB /  2048MiB |      0%      Default |\n",
      "+-------------------------------+----------------------+----------------------+\n",
      "                                                                               \n",
      "+-----------------------------------------------------------------------------+\n",
      "| Processes:                                                       GPU Memory |\n",
      "|  GPU       PID   Type   Process name                             Usage      |\n",
      "|=============================================================================|\n",
      "|  No running processes found                                                 |\n",
      "+-----------------------------------------------------------------------------+\n"
     ]
    }
   ],
   "source": [
    "## \n",
    "\"\"\"\n",
    "Your code here (optional)\n",
    "確認硬體資源\n",
    "\"\"\"\n",
    "!nvidia-smi"
   ]
  },
  {
   "cell_type": "code",
   "execution_count": 2,
   "metadata": {},
   "outputs": [],
   "source": [
    "import os\n",
    "import keras\n",
    "\n",
    "# 請嘗試設定 GPU：os.environ\n",
    "os.environ[\"CUDA_VISIBLE_DEVICES\"] = \"\""
   ]
  },
  {
   "cell_type": "code",
   "execution_count": 3,
   "metadata": {},
   "outputs": [],
   "source": [
    "train, test = keras.datasets.cifar10.load_data()"
   ]
  },
  {
   "cell_type": "code",
   "execution_count": 4,
   "metadata": {},
   "outputs": [],
   "source": [
    "## 資料前處理\n",
    "\"\"\"\n",
    "Your code here\n",
    "\"\"\"\n",
    "def preproc_x(x, flatten=True):\n",
    "    x = x / 255\n",
    "    if flatten:\n",
    "        x = x.reshape((len(x), -1))\n",
    "    return x\n",
    "\n",
    "def preproc_y(y, num_classes=10):\n",
    "    if y.shape[-1] == 1:\n",
    "        y = keras.utils.to_categorical(y, num_classes)\n",
    "    return y    "
   ]
  },
  {
   "cell_type": "code",
   "execution_count": 5,
   "metadata": {},
   "outputs": [],
   "source": [
    "x_train, y_train = train\n",
    "x_test, y_test = test\n",
    "\n",
    "# Preproc the inputs\n",
    "x_train = preproc_x(x_train)\n",
    "x_test = preproc_x(x_test)\n",
    "\n",
    "# Preprc the outputs\n",
    "y_train = preproc_y(y_train)\n",
    "y_test = preproc_y(y_test)"
   ]
  },
  {
   "cell_type": "code",
   "execution_count": 6,
   "metadata": {},
   "outputs": [
    {
     "name": "stdout",
     "output_type": "stream",
     "text": [
      "Model: \"model\"\n",
      "_________________________________________________________________\n",
      "Layer (type)                 Output Shape              Param #   \n",
      "=================================================================\n",
      "input_1 (InputLayer)         [(None, 3072)]            0         \n",
      "_________________________________________________________________\n",
      "hidden_layer1 (Dense)        (None, 512)               1573376   \n",
      "_________________________________________________________________\n",
      "hidden_layer2 (Dense)        (None, 256)               131328    \n",
      "_________________________________________________________________\n",
      "hidden_layer3 (Dense)        (None, 128)               32896     \n",
      "_________________________________________________________________\n",
      "hidden_layer4 (Dense)        (None, 128)               16512     \n",
      "_________________________________________________________________\n",
      "hidden_layer5 (Dense)        (None, 128)               16512     \n",
      "_________________________________________________________________\n",
      "output (Dense)               (None, 10)                1290      \n",
      "=================================================================\n",
      "Total params: 1,771,914\n",
      "Trainable params: 1,771,914\n",
      "Non-trainable params: 0\n",
      "_________________________________________________________________\n"
     ]
    }
   ],
   "source": [
    "\"\"\"Code Here\n",
    "建立你的神經網路\n",
    "\"\"\"\n",
    "\n",
    "num_neurons = [512, 256, 128, 128, 128]\n",
    "\n",
    "def build_mlp(input_shape, output_units=10, num_neurons=num_neurons):\n",
    "    input_layer = keras.layers.Input(input_shape)\n",
    "    \n",
    "    for i, n_units in enumerate(num_neurons):\n",
    "        if i == 0 :\n",
    "            x = keras.layers.Dense(units=n_units, activation=\"relu\", name=\"hidden_layer\"+str(i+1))(input_layer)\n",
    "        else:\n",
    "            x = keras.layers.Dense(units=n_units, activation=\"relu\", name=\"hidden_layer\"+str(i+1))(x)\n",
    "            \n",
    "    out = keras.layers.Dense(units=output_units, activation=\"softmax\", name=\"output\")(x)\n",
    "    model = keras.models.Model(inputs=[input_layer], outputs=[out])\n",
    "    return model\n",
    "\n",
    "\n",
    "model = build_mlp(input_shape=x_train.shape[1:])\n",
    "model.summary()"
   ]
  },
  {
   "cell_type": "code",
   "execution_count": 7,
   "metadata": {},
   "outputs": [],
   "source": [
    "## 超參數設定\n",
    "LEARNING_RATE = 0.001\n",
    "EPOCHS = 100\n",
    "BATCH_SIZE = 256"
   ]
  },
  {
   "cell_type": "code",
   "execution_count": 8,
   "metadata": {},
   "outputs": [],
   "source": [
    "optimizer = keras.optimizers.Adam(lr=LEARNING_RATE)\n",
    "model.compile(loss=\"categorical_crossentropy\", metrics=[\"accuracy\"], optimizer=optimizer)"
   ]
  },
  {
   "cell_type": "code",
   "execution_count": 9,
   "metadata": {},
   "outputs": [
    {
     "name": "stdout",
     "output_type": "stream",
     "text": [
      "Epoch 1/100\n",
      "196/196 [==============================] - 4s 21ms/step - loss: 1.9240 - accuracy: 0.2933 - val_loss: 1.7628 - val_accuracy: 0.3596\n",
      "Epoch 2/100\n",
      "196/196 [==============================] - 4s 20ms/step - loss: 1.7128 - accuracy: 0.3833 - val_loss: 1.6703 - val_accuracy: 0.3953\n",
      "Epoch 3/100\n",
      "196/196 [==============================] - 4s 20ms/step - loss: 1.6178 - accuracy: 0.4189 - val_loss: 1.5945 - val_accuracy: 0.4213\n",
      "Epoch 4/100\n",
      "196/196 [==============================] - 4s 20ms/step - loss: 1.5534 - accuracy: 0.4452 - val_loss: 1.5218 - val_accuracy: 0.4586\n",
      "Epoch 5/100\n",
      "196/196 [==============================] - 4s 21ms/step - loss: 1.5160 - accuracy: 0.4571 - val_loss: 1.5540 - val_accuracy: 0.4591\n",
      "Epoch 6/100\n",
      "196/196 [==============================] - 4s 20ms/step - loss: 1.4731 - accuracy: 0.4732 - val_loss: 1.5264 - val_accuracy: 0.4510\n",
      "Epoch 7/100\n",
      "196/196 [==============================] - 4s 20ms/step - loss: 1.4374 - accuracy: 0.4859 - val_loss: 1.5060 - val_accuracy: 0.4592\n",
      "Epoch 8/100\n",
      "196/196 [==============================] - 4s 20ms/step - loss: 1.4071 - accuracy: 0.4969 - val_loss: 1.4455 - val_accuracy: 0.4900\n",
      "Epoch 9/100\n",
      "196/196 [==============================] - 4s 21ms/step - loss: 1.3737 - accuracy: 0.5094 - val_loss: 1.4551 - val_accuracy: 0.4804\n",
      "Epoch 10/100\n",
      "196/196 [==============================] - 4s 19ms/step - loss: 1.3544 - accuracy: 0.5150 - val_loss: 1.4377 - val_accuracy: 0.4954\n",
      "Epoch 11/100\n",
      "196/196 [==============================] - 4s 21ms/step - loss: 1.3312 - accuracy: 0.5247 - val_loss: 1.4670 - val_accuracy: 0.4820\n",
      "Epoch 12/100\n",
      "196/196 [==============================] - 4s 20ms/step - loss: 1.3076 - accuracy: 0.5327 - val_loss: 1.4214 - val_accuracy: 0.4988\n",
      "Epoch 13/100\n",
      "196/196 [==============================] - 4s 21ms/step - loss: 1.2906 - accuracy: 0.5374 - val_loss: 1.4266 - val_accuracy: 0.4916\n",
      "Epoch 14/100\n",
      "196/196 [==============================] - 4s 20ms/step - loss: 1.2693 - accuracy: 0.5440 - val_loss: 1.3842 - val_accuracy: 0.5087\n",
      "Epoch 15/100\n",
      "196/196 [==============================] - 4s 21ms/step - loss: 1.2309 - accuracy: 0.5601 - val_loss: 1.4266 - val_accuracy: 0.5017\n",
      "Epoch 16/100\n",
      "196/196 [==============================] - 4s 21ms/step - loss: 1.2197 - accuracy: 0.5625 - val_loss: 1.3825 - val_accuracy: 0.5198\n",
      "Epoch 17/100\n",
      "196/196 [==============================] - 4s 21ms/step - loss: 1.1900 - accuracy: 0.5732 - val_loss: 1.3895 - val_accuracy: 0.5084\n",
      "Epoch 18/100\n",
      "196/196 [==============================] - 4s 21ms/step - loss: 1.1658 - accuracy: 0.5815 - val_loss: 1.3727 - val_accuracy: 0.5189\n",
      "Epoch 19/100\n",
      "196/196 [==============================] - 4s 21ms/step - loss: 1.1490 - accuracy: 0.5881 - val_loss: 1.4135 - val_accuracy: 0.5093\n",
      "Epoch 20/100\n",
      "196/196 [==============================] - 4s 20ms/step - loss: 1.1316 - accuracy: 0.5956 - val_loss: 1.4119 - val_accuracy: 0.5125\n",
      "Epoch 21/100\n",
      "196/196 [==============================] - 4s 20ms/step - loss: 1.1092 - accuracy: 0.6006 - val_loss: 1.4134 - val_accuracy: 0.5113\n",
      "Epoch 22/100\n",
      "196/196 [==============================] - 4s 20ms/step - loss: 1.0837 - accuracy: 0.6097 - val_loss: 1.4230 - val_accuracy: 0.5049\n",
      "Epoch 23/100\n",
      "196/196 [==============================] - 4s 21ms/step - loss: 1.0718 - accuracy: 0.6129 - val_loss: 1.4348 - val_accuracy: 0.5142\n",
      "Epoch 24/100\n",
      "196/196 [==============================] - 4s 21ms/step - loss: 1.0365 - accuracy: 0.6279 - val_loss: 1.4304 - val_accuracy: 0.5203\n",
      "Epoch 25/100\n",
      "196/196 [==============================] - 4s 22ms/step - loss: 1.0205 - accuracy: 0.6345 - val_loss: 1.4455 - val_accuracy: 0.5103\n",
      "Epoch 26/100\n",
      "196/196 [==============================] - 4s 21ms/step - loss: 1.0110 - accuracy: 0.6352 - val_loss: 1.4877 - val_accuracy: 0.5067\n",
      "Epoch 27/100\n",
      "196/196 [==============================] - 5s 26ms/step - loss: 0.9900 - accuracy: 0.6416 - val_loss: 1.4340 - val_accuracy: 0.5210\n",
      "Epoch 28/100\n",
      "196/196 [==============================] - 4s 22ms/step - loss: 0.9554 - accuracy: 0.6567 - val_loss: 1.4623 - val_accuracy: 0.5178\n",
      "Epoch 29/100\n",
      "196/196 [==============================] - 4s 20ms/step - loss: 0.9465 - accuracy: 0.6574 - val_loss: 1.4807 - val_accuracy: 0.5245\n",
      "Epoch 30/100\n",
      "196/196 [==============================] - 4s 21ms/step - loss: 0.9222 - accuracy: 0.6690 - val_loss: 1.4838 - val_accuracy: 0.5276\n",
      "Epoch 31/100\n",
      "196/196 [==============================] - 4s 21ms/step - loss: 0.8973 - accuracy: 0.6785 - val_loss: 1.5124 - val_accuracy: 0.5210\n",
      "Epoch 32/100\n",
      "196/196 [==============================] - 4s 20ms/step - loss: 0.8842 - accuracy: 0.6824 - val_loss: 1.5426 - val_accuracy: 0.5191\n",
      "Epoch 33/100\n",
      "196/196 [==============================] - 4s 20ms/step - loss: 0.8700 - accuracy: 0.6886 - val_loss: 1.5474 - val_accuracy: 0.5183\n",
      "Epoch 34/100\n",
      "196/196 [==============================] - 4s 22ms/step - loss: 0.8488 - accuracy: 0.6932 - val_loss: 1.5544 - val_accuracy: 0.5191\n",
      "Epoch 35/100\n",
      "196/196 [==============================] - 4s 22ms/step - loss: 0.8236 - accuracy: 0.7021 - val_loss: 1.5963 - val_accuracy: 0.5164\n",
      "Epoch 36/100\n",
      "196/196 [==============================] - 4s 21ms/step - loss: 0.8139 - accuracy: 0.7077 - val_loss: 1.6677 - val_accuracy: 0.5125\n",
      "Epoch 37/100\n",
      "196/196 [==============================] - 4s 21ms/step - loss: 0.7863 - accuracy: 0.7176 - val_loss: 1.6950 - val_accuracy: 0.5031\n",
      "Epoch 38/100\n",
      "196/196 [==============================] - 4s 20ms/step - loss: 0.7809 - accuracy: 0.7203 - val_loss: 1.7193 - val_accuracy: 0.5133\n",
      "Epoch 39/100\n",
      "196/196 [==============================] - 4s 20ms/step - loss: 0.7575 - accuracy: 0.7276 - val_loss: 1.7179 - val_accuracy: 0.5149\n",
      "Epoch 40/100\n",
      "196/196 [==============================] - 4s 21ms/step - loss: 0.7337 - accuracy: 0.7349 - val_loss: 1.7563 - val_accuracy: 0.5047\n",
      "Epoch 41/100\n",
      "196/196 [==============================] - 4s 21ms/step - loss: 0.7298 - accuracy: 0.7351 - val_loss: 1.7160 - val_accuracy: 0.5164\n",
      "Epoch 42/100\n",
      "196/196 [==============================] - 4s 20ms/step - loss: 0.6981 - accuracy: 0.7492 - val_loss: 1.7789 - val_accuracy: 0.5077\n",
      "Epoch 43/100\n",
      "196/196 [==============================] - 4s 20ms/step - loss: 0.6937 - accuracy: 0.7507 - val_loss: 1.8343 - val_accuracy: 0.5042\n",
      "Epoch 44/100\n",
      "196/196 [==============================] - 4s 20ms/step - loss: 0.6762 - accuracy: 0.7552 - val_loss: 1.8721 - val_accuracy: 0.5126\n",
      "Epoch 45/100\n",
      "196/196 [==============================] - 4s 23ms/step - loss: 0.6602 - accuracy: 0.7605 - val_loss: 1.8707 - val_accuracy: 0.5150\n",
      "Epoch 46/100\n",
      "196/196 [==============================] - 5s 24ms/step - loss: 0.6547 - accuracy: 0.7635 - val_loss: 1.8879 - val_accuracy: 0.5071\n",
      "Epoch 47/100\n",
      "196/196 [==============================] - 5s 23ms/step - loss: 0.6172 - accuracy: 0.7792 - val_loss: 1.9790 - val_accuracy: 0.5015\n",
      "Epoch 48/100\n",
      "196/196 [==============================] - 5s 25ms/step - loss: 0.6212 - accuracy: 0.7753 - val_loss: 2.0306 - val_accuracy: 0.4984\n",
      "Epoch 49/100\n",
      "196/196 [==============================] - 4s 22ms/step - loss: 0.6194 - accuracy: 0.7776 - val_loss: 1.9560 - val_accuracy: 0.5151\n",
      "Epoch 50/100\n",
      "196/196 [==============================] - 4s 22ms/step - loss: 0.6088 - accuracy: 0.7801 - val_loss: 1.9817 - val_accuracy: 0.5148\n",
      "Epoch 51/100\n",
      "196/196 [==============================] - 5s 27ms/step - loss: 0.5825 - accuracy: 0.7904 - val_loss: 2.0411 - val_accuracy: 0.5064\n",
      "Epoch 52/100\n",
      "196/196 [==============================] - 5s 25ms/step - loss: 0.5742 - accuracy: 0.7924 - val_loss: 2.1288 - val_accuracy: 0.4966\n",
      "Epoch 53/100\n",
      "196/196 [==============================] - 5s 26ms/step - loss: 0.5439 - accuracy: 0.8049 - val_loss: 2.1559 - val_accuracy: 0.5032\n",
      "Epoch 54/100\n",
      "196/196 [==============================] - 6s 29ms/step - loss: 0.5370 - accuracy: 0.8061 - val_loss: 2.1865 - val_accuracy: 0.5062\n",
      "Epoch 55/100\n",
      "196/196 [==============================] - 4s 23ms/step - loss: 0.5290 - accuracy: 0.8100 - val_loss: 2.2073 - val_accuracy: 0.4947\n",
      "Epoch 56/100\n",
      "196/196 [==============================] - 4s 21ms/step - loss: 0.5306 - accuracy: 0.8085 - val_loss: 2.2428 - val_accuracy: 0.4980\n",
      "Epoch 57/100\n"
     ]
    },
    {
     "name": "stdout",
     "output_type": "stream",
     "text": [
      "196/196 [==============================] - 4s 21ms/step - loss: 0.5204 - accuracy: 0.8124 - val_loss: 2.2952 - val_accuracy: 0.4986\n",
      "Epoch 58/100\n",
      "196/196 [==============================] - 4s 20ms/step - loss: 0.5187 - accuracy: 0.8120 - val_loss: 2.3149 - val_accuracy: 0.5049\n",
      "Epoch 59/100\n",
      "196/196 [==============================] - 4s 22ms/step - loss: 0.5000 - accuracy: 0.8198 - val_loss: 2.4883 - val_accuracy: 0.4924\n",
      "Epoch 60/100\n",
      "196/196 [==============================] - 4s 22ms/step - loss: 0.4891 - accuracy: 0.8206 - val_loss: 2.3181 - val_accuracy: 0.5024\n",
      "Epoch 61/100\n",
      "196/196 [==============================] - 4s 22ms/step - loss: 0.4637 - accuracy: 0.8334 - val_loss: 2.4369 - val_accuracy: 0.5025\n",
      "Epoch 62/100\n",
      "196/196 [==============================] - 4s 21ms/step - loss: 0.4700 - accuracy: 0.8288 - val_loss: 2.5503 - val_accuracy: 0.4923\n",
      "Epoch 63/100\n",
      "196/196 [==============================] - 4s 19ms/step - loss: 0.4987 - accuracy: 0.8206 - val_loss: 2.4470 - val_accuracy: 0.4949\n",
      "Epoch 64/100\n",
      "196/196 [==============================] - 4s 20ms/step - loss: 0.4349 - accuracy: 0.8442 - val_loss: 2.5463 - val_accuracy: 0.5018\n",
      "Epoch 65/100\n",
      "196/196 [==============================] - 4s 20ms/step - loss: 0.4530 - accuracy: 0.8356 - val_loss: 2.5335 - val_accuracy: 0.4967\n",
      "Epoch 66/100\n",
      "196/196 [==============================] - 4s 21ms/step - loss: 0.4374 - accuracy: 0.8405 - val_loss: 2.6206 - val_accuracy: 0.5021\n",
      "Epoch 67/100\n",
      "196/196 [==============================] - 4s 20ms/step - loss: 0.4263 - accuracy: 0.8445 - val_loss: 2.6016 - val_accuracy: 0.5022\n",
      "Epoch 68/100\n",
      "196/196 [==============================] - 4s 20ms/step - loss: 0.4075 - accuracy: 0.8521 - val_loss: 2.6907 - val_accuracy: 0.4987\n",
      "Epoch 69/100\n",
      "196/196 [==============================] - 4s 20ms/step - loss: 0.3869 - accuracy: 0.8600 - val_loss: 2.7505 - val_accuracy: 0.4890\n",
      "Epoch 70/100\n",
      "196/196 [==============================] - 4s 20ms/step - loss: 0.4494 - accuracy: 0.8386 - val_loss: 2.8378 - val_accuracy: 0.4852\n",
      "Epoch 71/100\n",
      "196/196 [==============================] - 4s 20ms/step - loss: 0.4184 - accuracy: 0.8486 - val_loss: 2.6981 - val_accuracy: 0.4963\n",
      "Epoch 72/100\n",
      "196/196 [==============================] - 5s 24ms/step - loss: 0.3822 - accuracy: 0.8632 - val_loss: 2.9339 - val_accuracy: 0.4994\n",
      "Epoch 73/100\n",
      "196/196 [==============================] - 5s 24ms/step - loss: 0.4035 - accuracy: 0.8544 - val_loss: 2.8934 - val_accuracy: 0.4981\n",
      "Epoch 74/100\n",
      "196/196 [==============================] - 4s 20ms/step - loss: 0.4051 - accuracy: 0.8542 - val_loss: 2.7696 - val_accuracy: 0.4961\n",
      "Epoch 75/100\n",
      "196/196 [==============================] - 4s 21ms/step - loss: 0.3824 - accuracy: 0.8615 - val_loss: 2.9325 - val_accuracy: 0.4940\n",
      "Epoch 76/100\n",
      "196/196 [==============================] - 4s 20ms/step - loss: 0.3803 - accuracy: 0.8626 - val_loss: 2.8832 - val_accuracy: 0.4936\n",
      "Epoch 77/100\n",
      "196/196 [==============================] - 5s 25ms/step - loss: 0.3782 - accuracy: 0.8650 - val_loss: 2.9395 - val_accuracy: 0.4992\n",
      "Epoch 78/100\n",
      "196/196 [==============================] - 4s 22ms/step - loss: 0.3396 - accuracy: 0.8781 - val_loss: 3.0400 - val_accuracy: 0.4960\n",
      "Epoch 79/100\n",
      "196/196 [==============================] - 4s 21ms/step - loss: 0.3708 - accuracy: 0.8660 - val_loss: 2.9352 - val_accuracy: 0.4944\n",
      "Epoch 80/100\n",
      "196/196 [==============================] - 4s 20ms/step - loss: 0.3566 - accuracy: 0.8700 - val_loss: 3.0201 - val_accuracy: 0.4953\n",
      "Epoch 81/100\n",
      "196/196 [==============================] - 4s 22ms/step - loss: 0.3758 - accuracy: 0.8643 - val_loss: 3.1632 - val_accuracy: 0.4889\n",
      "Epoch 82/100\n",
      "196/196 [==============================] - 4s 22ms/step - loss: 0.3286 - accuracy: 0.8793 - val_loss: 3.1501 - val_accuracy: 0.4965\n",
      "Epoch 83/100\n",
      "196/196 [==============================] - 4s 21ms/step - loss: 0.3717 - accuracy: 0.8666 - val_loss: 2.9098 - val_accuracy: 0.4989\n",
      "Epoch 84/100\n",
      "196/196 [==============================] - 5s 24ms/step - loss: 0.3352 - accuracy: 0.8770 - val_loss: 3.2397 - val_accuracy: 0.4896\n",
      "Epoch 85/100\n",
      "196/196 [==============================] - 4s 20ms/step - loss: 0.3499 - accuracy: 0.8733 - val_loss: 3.1274 - val_accuracy: 0.4991\n",
      "Epoch 86/100\n",
      "196/196 [==============================] - 4s 19ms/step - loss: 0.3178 - accuracy: 0.8864 - val_loss: 3.2604 - val_accuracy: 0.4903\n",
      "Epoch 87/100\n",
      "196/196 [==============================] - 4s 19ms/step - loss: 0.3271 - accuracy: 0.8808 - val_loss: 3.2323 - val_accuracy: 0.4950\n",
      "Epoch 88/100\n",
      "196/196 [==============================] - 4s 19ms/step - loss: 0.3187 - accuracy: 0.8842 - val_loss: 3.2078 - val_accuracy: 0.4977\n",
      "Epoch 89/100\n",
      "196/196 [==============================] - 4s 19ms/step - loss: 0.3426 - accuracy: 0.8766 - val_loss: 3.3699 - val_accuracy: 0.4928\n",
      "Epoch 90/100\n",
      "196/196 [==============================] - 4s 20ms/step - loss: 0.3387 - accuracy: 0.8793 - val_loss: 3.2665 - val_accuracy: 0.4990\n",
      "Epoch 91/100\n",
      "196/196 [==============================] - 4s 20ms/step - loss: 0.3010 - accuracy: 0.8909 - val_loss: 3.3115 - val_accuracy: 0.4963\n",
      "Epoch 92/100\n",
      "196/196 [==============================] - 4s 19ms/step - loss: 0.2953 - accuracy: 0.8936 - val_loss: 3.4886 - val_accuracy: 0.4897\n",
      "Epoch 93/100\n",
      "196/196 [==============================] - 4s 20ms/step - loss: 0.2967 - accuracy: 0.8931 - val_loss: 3.4530 - val_accuracy: 0.4936\n",
      "Epoch 94/100\n",
      "196/196 [==============================] - 4s 19ms/step - loss: 0.3050 - accuracy: 0.8908 - val_loss: 3.4585 - val_accuracy: 0.4990\n",
      "Epoch 95/100\n",
      "196/196 [==============================] - 4s 20ms/step - loss: 0.3162 - accuracy: 0.8860 - val_loss: 3.3706 - val_accuracy: 0.5008\n",
      "Epoch 96/100\n",
      "196/196 [==============================] - 4s 19ms/step - loss: 0.2980 - accuracy: 0.8938 - val_loss: 3.5933 - val_accuracy: 0.4960\n",
      "Epoch 97/100\n",
      "196/196 [==============================] - 4s 19ms/step - loss: 0.2989 - accuracy: 0.8935 - val_loss: 3.4151 - val_accuracy: 0.4926\n",
      "Epoch 98/100\n",
      "196/196 [==============================] - 4s 19ms/step - loss: 0.2996 - accuracy: 0.8929 - val_loss: 3.5694 - val_accuracy: 0.4975\n",
      "Epoch 99/100\n",
      "196/196 [==============================] - 4s 19ms/step - loss: 0.3004 - accuracy: 0.8931 - val_loss: 3.6444 - val_accuracy: 0.4930\n",
      "Epoch 100/100\n",
      "196/196 [==============================] - 4s 19ms/step - loss: 0.2798 - accuracy: 0.9000 - val_loss: 3.6643 - val_accuracy: 0.4891\n"
     ]
    },
    {
     "data": {
      "text/plain": [
       "<tensorflow.python.keras.callbacks.History at 0x2112d6785b0>"
      ]
     },
     "execution_count": 9,
     "metadata": {},
     "output_type": "execute_result"
    }
   ],
   "source": [
    "model.fit(x_train, y_train, \n",
    "          epochs=EPOCHS, \n",
    "          batch_size=BATCH_SIZE, \n",
    "          validation_data=(x_test, y_test), \n",
    "          shuffle=True)"
   ]
  },
  {
   "cell_type": "code",
   "execution_count": 10,
   "metadata": {},
   "outputs": [
    {
     "data": {
      "image/png": "[encoded data removed]",
      "text/plain": [
       "<Figure size 432x288 with 1 Axes>"
      ]
     },
     "metadata": {
      "needs_background": "light"
     },
     "output_type": "display_data"
    },
    {
     "data": {
      "image/png": "[encoded data removed]",
      "text/plain": [
       "<Figure size 432x288 with 1 Axes>"
      ]
     },
     "metadata": {
      "needs_background": "light"
     },
     "output_type": "display_data"
    }
   ],
   "source": [
    "import matplotlib.pyplot as plt\n",
    "\n",
    "\n",
    "train_loss = model.history.history[\"loss\"]\n",
    "valid_loss = model.history.history[\"val_loss\"]\n",
    "\n",
    "train_acc = model.history.history[\"accuracy\"]\n",
    "valid_acc = model.history.history[\"val_accuracy\"]\n",
    "\n",
    "plt.plot(range(len(train_loss)), train_loss, label=\"train loss\")\n",
    "plt.plot(range(len(valid_loss)), valid_loss, label=\"valid loss\")\n",
    "plt.legend()\n",
    "plt.title(\"Loss\")\n",
    "plt.show()\n",
    "\n",
    "plt.plot(range(len(train_acc)), train_acc, label=\"train accuracy\")\n",
    "plt.plot(range(len(valid_acc)), valid_acc, label=\"valid accuracy\")\n",
    "plt.legend()\n",
    "plt.title(\"Accuracy\")\n",
    "plt.show()"
   ]
  }
 ],
 "metadata": {
  "kernelspec": {
   "display_name": "Python 3",
   "language": "python",
   "name": "python3"
  },
  "language_info": {
   "codemirror_mode": {
    "name": "ipython",
    "version": 3
   },
   "file_extension": ".py",
   "mimetype": "text/x-python",
   "name": "python",
   "nbconvert_exporter": "python",
   "pygments_lexer": "ipython3",
   "version": "3.8.3"
  }
 },
 "nbformat": 4,
 "nbformat_minor": 2
}
