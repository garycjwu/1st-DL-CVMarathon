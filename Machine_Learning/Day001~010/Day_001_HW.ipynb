{
 "cells": [
  {
   "cell_type": "code",
   "execution_count": 1,
   "metadata": {},
   "outputs": [],
   "source": [
    "import numpy as np\n",
    "import matplotlib.pyplot as plt"
   ]
  },
  {
   "cell_type": "code",
   "execution_count": 2,
   "metadata": {},
   "outputs": [],
   "source": [
    "def mean_absolute_error(y, yp):\n",
    "    \"\"\"\n",
    "    計算 MAE\n",
    "    Args:\n",
    "        - y: 實際值\n",
    "        - yp: 預測值\n",
    "    Return:\n",
    "        - mae: MAE\n",
    "    \"\"\"\n",
    "    mae = MAE = sum(abs(y - yp)) / len(y)\n",
    "    return mae\n",
    "\n",
    "# 定義 mean_squared_error 這個函數, 計算並傳回 MSE\n",
    "def mean_squared_error(y, yp):\n",
    "    \"\"\"\n",
    "    請完成這個 Function 後往下執行\n",
    "    \"\"\"\n",
    "    mse = MSE = sum((y - yp) ** 2) / len(y) \n",
    "    return mse"
   ]
  },
  {
   "cell_type": "code",
   "execution_count": 3,
   "metadata": {},
   "outputs": [
    {
     "data": {
      "image/png": "[encoded data removed]",
      "text/plain": [
       "<Figure size 432x288 with 1 Axes>"
      ]
     },
     "metadata": {
      "needs_background": "light"
     },
     "output_type": "display_data"
    }
   ],
   "source": [
    "# 與範例相同, 不另外解說\n",
    "w = 3\n",
    "b = 0.5\n",
    "x_lin = np.linspace(0, 100, 101)\n",
    "y = (x_lin + np.random.randn(101) * 5) * w + b\n",
    "\n",
    "plt.plot(x_lin, y, 'b.', label = 'data points')\n",
    "plt.title(\"Assume we have data points\")\n",
    "plt.legend(loc = 2)\n",
    "plt.show()"
   ]
  },
  {
   "cell_type": "code",
   "execution_count": 4,
   "metadata": {},
   "outputs": [
    {
     "data": {
      "image/png": "[encoded data removed]",
      "text/plain": [
       "<Figure size 432x288 with 1 Axes>"
      ]
     },
     "metadata": {
      "needs_background": "light"
     },
     "output_type": "display_data"
    }
   ],
   "source": [
    "# 與範例相同, 不另外解說\n",
    "y_hat = x_lin * w + b\n",
    "plt.plot(x_lin, y, 'b.', label = 'data')\n",
    "plt.plot(x_lin, y_hat, 'r-', label = 'prediction')\n",
    "plt.title(\"Assume we have data points (And the prediction)\")\n",
    "plt.legend(loc = 2)\n",
    "plt.show()"
   ]
  },
  {
   "cell_type": "code",
   "execution_count": 5,
   "metadata": {},
   "outputs": [
    {
     "name": "stdout",
     "output_type": "stream",
     "text": [
      "The Mean squared error is 225.831\n",
      "The Mean absolute error is 11.814\n"
     ]
    }
   ],
   "source": [
    "# 執行 Function, 確認有沒有正常執行#\n",
    "MSE = mean_squared_error(y, y_hat)\n",
    "MAE = mean_absolute_error(y, y_hat)\n",
    "print(\"The Mean squared error is %.3f\" % (MSE))\n",
    "print(\"The Mean absolute error is %.3f\" % (MAE))"
   ]
  },
  {
   "cell_type": "code",
   "execution_count": 7,
   "metadata": {},
   "outputs": [
    {
     "data": {
      "text/plain": [
       "array([  0.,   1.,   2.,   3.,   4.,   5.,   6.,   7.,   8.,   9.,  10.,\n",
       "        11.,  12.,  13.,  14.,  15.,  16.,  17.,  18.,  19.,  20.,  21.,\n",
       "        22.,  23.,  24.,  25.,  26.,  27.,  28.,  29.,  30.,  31.,  32.,\n",
       "        33.,  34.,  35.,  36.,  37.,  38.,  39.,  40.,  41.,  42.,  43.,\n",
       "        44.,  45.,  46.,  47.,  48.,  49.,  50.,  51.,  52.,  53.,  54.,\n",
       "        55.,  56.,  57.,  58.,  59.,  60.,  61.,  62.,  63.,  64.,  65.,\n",
       "        66.,  67.,  68.,  69.,  70.,  71.,  72.,  73.,  74.,  75.,  76.,\n",
       "        77.,  78.,  79.,  80.,  81.,  82.,  83.,  84.,  85.,  86.,  87.,\n",
       "        88.,  89.,  90.,  91.,  92.,  93.,  94.,  95.,  96.,  97.,  98.,\n",
       "        99., 100.])"
      ]
     },
     "execution_count": 7,
     "metadata": {},
     "output_type": "execute_result"
    }
   ],
   "source": [
    "x_lin"
   ]
  },
  {
   "cell_type": "code",
   "execution_count": 11,
   "metadata": {},
   "outputs": [
    {
     "data": {
      "text/plain": [
       "array([  0.,   5.,  10.,  15.,  20.,  25.,  30.,  35.,  40.,  45.,  50.,\n",
       "        55.,  60.,  65.,  70.,  75.,  80.,  85.,  90.,  95., 100., 105.,\n",
       "       110., 115., 120., 125., 130., 135., 140., 145., 150., 155., 160.,\n",
       "       165., 170., 175., 180., 185., 190., 195., 200., 205., 210., 215.,\n",
       "       220., 225., 230., 235., 240., 245., 250., 255., 260., 265., 270.,\n",
       "       275., 280., 285., 290., 295., 300., 305., 310., 315., 320., 325.,\n",
       "       330., 335., 340., 345., 350., 355., 360., 365., 370., 375., 380.,\n",
       "       385., 390., 395., 400., 405., 410., 415., 420., 425., 430., 435.,\n",
       "       440., 445., 450., 455., 460., 465., 470., 475., 480., 485., 490.,\n",
       "       495., 500.])"
      ]
     },
     "execution_count": 11,
     "metadata": {},
     "output_type": "execute_result"
    }
   ],
   "source": [
    "a = np.linspace(0,500,101)\n",
    "a"
   ]
  },
  {
   "cell_type": "code",
   "execution_count": 12,
   "metadata": {},
   "outputs": [
    {
     "data": {
      "text/plain": [
       "array([ 0.09895107, -0.71775929,  0.1670066 , -0.28934553, -1.33095917,\n",
       "       -0.60658813,  2.08871619, -0.1254488 , -0.58775191,  1.55751202,\n",
       "        1.05290536, -1.07603923, -0.10075044,  0.72280403, -1.21824108,\n",
       "       -0.26946841, -1.22673323, -0.31744007,  0.71010628, -1.39354515,\n",
       "        0.63758391, -0.05936898, -1.58012582,  0.03172979, -0.43224828,\n",
       "        0.69216591, -0.91570685, -1.33975732,  0.6518151 , -1.59255966,\n",
       "       -0.84851583, -0.49430147,  0.3205417 ,  0.77081878, -0.90671067,\n",
       "        0.1912749 , -0.6334804 ,  0.85198068, -0.11933704,  1.70377445,\n",
       "       -0.18905879, -0.97949642,  0.83330493,  0.90741289, -0.41446897,\n",
       "        1.55840941,  0.22516424,  0.59450556, -0.42671873, -1.10718127,\n",
       "       -1.07700458, -0.48863428,  1.35889585, -0.35695779, -0.32254146,\n",
       "        0.0706922 ,  0.11673381,  0.99009865,  1.89941084,  2.80445038,\n",
       "       -0.04864644,  0.53880049,  2.12995426, -1.19464112,  1.6352592 ,\n",
       "        0.04996784,  2.43716561, -0.91862504, -0.81449608,  0.28054824,\n",
       "        0.94210431,  2.08453249, -2.00146718, -0.12844182,  0.15864333,\n",
       "        0.15888436, -1.0582128 ,  0.44142767,  1.59252125, -0.14504636,\n",
       "        1.90836711,  1.14737328,  2.44844569,  1.45399019,  0.03743849,\n",
       "       -1.39366681,  0.18929494, -0.87940447,  0.17087821,  0.16975348,\n",
       "       -0.26704519,  1.33580642,  2.33026853,  0.59347753, -0.12391004,\n",
       "        0.91316865, -1.76774539, -0.05382439,  0.53874893,  0.30284044,\n",
       "        0.99640468])"
      ]
     },
     "execution_count": 12,
     "metadata": {},
     "output_type": "execute_result"
    }
   ],
   "source": [
    "np.random.randn(101)"
   ]
  },
  {
   "cell_type": "code",
   "execution_count": null,
   "metadata": {},
   "outputs": [],
   "source": [
    "Kaggle的競賽： Titanic\n"
   ]
  }
 ],
 "metadata": {
  "kernelspec": {
   "display_name": "Python 3",
   "language": "python",
   "name": "python3"
  },
  "language_info": {
   "codemirror_mode": {
    "name": "ipython",
    "version": 3
   },
   "file_extension": ".py",
   "mimetype": "text/x-python",
   "name": "python",
   "nbconvert_exporter": "python",
   "pygments_lexer": "ipython3",
   "version": "3.8.2"
  }
 },
 "nbformat": 4,
 "nbformat_minor": 4
}
