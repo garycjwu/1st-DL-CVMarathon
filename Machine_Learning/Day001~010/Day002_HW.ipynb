{
 "cells": [
  {
   "cell_type": "code",
   "execution_count": null,
   "metadata": {},
   "outputs": [],
   "source": [
    "思考題_請找出一個你認為機器學習可以發光發熱的領域並闡述原因?"
   ]
  },
  {
   "cell_type": "code",
   "execution_count": null,
   "metadata": {},
   "outputs": [],
   "source": [
    "答案：\n",
    "股價的預測\n",
    "因為股價是被很多事情的波動影響\n",
    "例如：油價上漲，原物料的狀況，或是貿易戰\n",
    "相信只要在有足夠資料的前提之下\n",
    "能夠成功的判斷出對於某間公司的影響程度\n",
    "進一步可以預測股價的漲跌"
   ]
  }
 ],
 "metadata": {
  "kernelspec": {
   "display_name": "Python 3",
   "language": "python",
   "name": "python3"
  },
  "language_info": {
   "codemirror_mode": {
    "name": "ipython",
    "version": 3
   },
   "file_extension": ".py",
   "mimetype": "text/x-python",
   "name": "python",
   "nbconvert_exporter": "python",
   "pygments_lexer": "ipython3",
   "version": "3.8.2"
  }
 },
 "nbformat": 4,
 "nbformat_minor": 4
}
