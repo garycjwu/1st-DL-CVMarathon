{
 "cells": [
  {
   "cell_type": "code",
   "execution_count": null,
   "metadata": {},
   "outputs": [],
   "source": [
    "請至以下機器學習巨頭的 blog 參觀，試著閱讀一篇文章並分析其 \n",
    "\n",
    "作業 1：目標\n",
    "\n",
    "作業 2：方法\n",
    "\n",
    "作業 3：資料來源 "
   ]
  },
  {
   "cell_type": "code",
   "execution_count": null,
   "metadata": {},
   "outputs": [],
   "source": [
    "文章：https://ai.googleblog.com/2020/05/enabling-e-textile-microinteractions.html\n",
    "\n",
    "目標：精確的感應出使用者的操作行為\n",
    "\n",
    "方法：透過12名操作者，執行相同的八個動作，並且重複九次\n",
    "因為即便是同一個動作，不同的人操作，都還是會產生些微變化，透過這些數據，增進機器判斷各個動作的精確度\n",
    "\n",
    "資料來源：自己找實驗者，並記錄其數據"
   ]
  }
 ],
 "metadata": {
  "kernelspec": {
   "display_name": "Python 3",
   "language": "python",
   "name": "python3"
  },
  "language_info": {
   "codemirror_mode": {
    "name": "ipython",
    "version": 3
   },
   "file_extension": ".py",
   "mimetype": "text/x-python",
   "name": "python",
   "nbconvert_exporter": "python",
   "pygments_lexer": "ipython3",
   "version": "3.8.2"
  }
 },
 "nbformat": 4,
 "nbformat_minor": 4
}
